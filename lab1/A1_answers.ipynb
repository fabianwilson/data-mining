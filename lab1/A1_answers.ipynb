{
 "cells": [
  {
   "cell_type": "markdown",
   "id": "9ef8a3fb",
   "metadata": {},
   "source": [
    "# BIG DATA"
   ]
  },
  {
   "cell_type": "markdown",
   "id": "2196e330",
   "metadata": {},
   "source": [
    "## TASK 1"
   ]
  },
  {
   "cell_type": "markdown",
   "id": "7be8ac36",
   "metadata": {},
   "source": [
    "### 1.1"
   ]
  },
  {
   "cell_type": "code",
   "id": "de2294ba",
   "metadata": {},
   "source": [
    "# IMPORT\n",
    "import pandas as pd\n",
    "import numpy as np\n",
    "\n",
    "# LOAD DATA\n",
    "data = pd.read_csv('iris_data.csv', delimiter=';')\n",
    "labels = pd.read_csv('iris_labels.csv', delimiter=';')"
   ],
   "outputs": [],
   "execution_count": null
  },
  {
   "cell_type": "code",
   "id": "005e0410",
   "metadata": {},
   "source": [
    "# PRINT SAMPLES AND SHAPE INFORMATION\n",
    "print(data)"
   ],
   "outputs": [],
   "execution_count": null
  },
  {
   "cell_type": "markdown",
   "id": "133e8d05",
   "metadata": {},
   "source": [
    "### 1.2"
   ]
  },
  {
   "cell_type": "code",
   "id": "9d7fbd85",
   "metadata": {},
   "source": [
    "# MERGE THE DATA SETS\n",
    "data = pd.merge(data, labels, on=\"id\", how=\"inner\")"
   ],
   "outputs": [],
   "execution_count": null
  },
  {
   "cell_type": "markdown",
   "id": "e8f1748d",
   "metadata": {},
   "source": [
    "### 1.3"
   ]
  },
  {
   "cell_type": "code",
   "id": "53949c99",
   "metadata": {},
   "source": [
    "# REMOVE EXAMINER COLUMN/FEATURE\n",
    "data.drop(['examiner'], axis=1, inplace=True)"
   ],
   "outputs": [],
   "execution_count": null
  },
  {
   "cell_type": "markdown",
   "id": "7a358d21",
   "metadata": {},
   "source": [
    "### 1.4"
   ]
  },
  {
   "cell_type": "code",
   "id": "8a088e3a",
   "metadata": {},
   "source": [
    "# STORT BY SPECIES/NAME\n",
    "data = data.sort_values('species')"
   ],
   "outputs": [],
   "execution_count": null
  },
  {
   "cell_type": "markdown",
   "id": "987892ce",
   "metadata": {},
   "source": [
    "### 1.5"
   ]
  },
  {
   "cell_type": "code",
   "id": "66c1bf6c",
   "metadata": {},
   "source": [
    "# IMPORTS\n",
    "import seaborn as sns\n",
    "\n",
    "# PAIRPLOT\n",
    "sns.pairplot(data, hue=\"species\")\n"
   ],
   "outputs": [],
   "execution_count": null
  },
  {
   "cell_type": "markdown",
   "id": "5953d423",
   "metadata": {},
   "source": [
    "## Task 2"
   ]
  },
  {
   "cell_type": "markdown",
   "id": "126eafae",
   "metadata": {},
   "source": [
    "### 2.1"
   ]
  },
  {
   "cell_type": "code",
   "id": "e90f9fcc",
   "metadata": {},
   "source": [
    "# DETERMINE CLASS DISTRIBUTION\n",
    "print(data['species'].value_counts())"
   ],
   "outputs": [],
   "execution_count": null
  },
  {
   "metadata": {},
   "cell_type": "markdown",
   "source": "## Task 3",
   "id": "d67f85c0da119d43"
  },
  {
   "metadata": {},
   "cell_type": "markdown",
   "source": "### 3.1",
   "id": "ad41390e0667f78a"
  },
  {
   "metadata": {},
   "cell_type": "code",
   "source": [
    "# FILTER OUT FLAGGED MISSING VALUES\n",
    "data = data[data[\"sl\"] != -9999]\n",
    "data = data[data[\"sw\"] != -9999]\n",
    "data = data[data[\"pl\"] != -9999]\n",
    "data = data[data[\"pw\"] != -9999]"
   ],
   "id": "a95722289fb81e8",
   "outputs": [],
   "execution_count": null
  },
  {
   "metadata": {},
   "cell_type": "code",
   "source": "sns.pairplot(data, hue=\"species\")",
   "id": "7b2b170ea7968c26",
   "outputs": [],
   "execution_count": null
  },
  {
   "metadata": {},
   "cell_type": "markdown",
   "source": "### 3.2",
   "id": "6e3b5170bc460846"
  },
  {
   "metadata": {},
   "cell_type": "code",
   "source": [
    "# IMPORT\n",
    "from scipy.stats import zscore\n",
    "\n",
    "# DEFINE COLUMNS\n",
    "feature_columns = ['pl', 'pw', 'sl', 'sw']\n",
    "\n",
    "# CALCULATE Z-SCORE FOR EACH FEATURE\n",
    "z_scores = data[feature_columns].apply(zscore)\n",
    "\n",
    "# FILTER\n",
    "outlier_mask = (abs(z_scores) > 3).any(axis=1)\n",
    "\n",
    "# MASK\n",
    "data = data[~outlier_mask]"
   ],
   "id": "45de5db361688f62",
   "outputs": [],
   "execution_count": null
  },
  {
   "metadata": {},
   "cell_type": "code",
   "source": [
    "# PAIR PLOT\n",
    "sns.pairplot(data, hue=\"species\")\n"
   ],
   "id": "4094ac99ff2d12f5",
   "outputs": [],
   "execution_count": null
  },
  {
   "metadata": {},
   "cell_type": "markdown",
   "source": "## Task 4\n",
   "id": "d03885d485790eb5"
  },
  {
   "metadata": {},
   "cell_type": "markdown",
   "source": "### 4.1\n",
   "id": "c227a6bdd897dcfc"
  },
  {
   "metadata": {},
   "cell_type": "code",
   "source": [
    "# IMPORT\n",
    "from sklearn.preprocessing import MinMaxScaler\n",
    "\n",
    "# MINMAX SCALE\n",
    "minmax_scaled = MinMaxScaler().fit_transform(data[[\"sl\", \"sw\", \"pl\", \"pw\"]])\n",
    "\n",
    "\n",
    "print(minmax_scaled[:, 0].mean())\n",
    "print(minmax_scaled[:, 0].std())"
   ],
   "id": "5bc8c34eeb05b5d2",
   "outputs": [],
   "execution_count": null
  },
  {
   "metadata": {},
   "cell_type": "markdown",
   "source": "### 4.2",
   "id": "d424eef0968fca0b"
  },
  {
   "metadata": {},
   "cell_type": "code",
   "source": [
    "# IMPORT\n",
    "from sklearn.preprocessing import StandardScaler\n",
    "\n",
    "# Z SCALE\n",
    "sd_scaled = StandardScaler().fit_transform(data[[\"sl\", \"sw\", \"pl\", \"pw\"]])\n",
    "print(sd_scaled[:, 0].mean())\n",
    "print(sd_scaled[:, 0].std())"
   ],
   "id": "5d4e8bf5e4df830",
   "outputs": [],
   "execution_count": null
  },
  {
   "metadata": {},
   "cell_type": "markdown",
   "source": "### 4.3\n",
   "id": "cc2661573e5696db"
  },
  {
   "metadata": {},
   "cell_type": "code",
   "source": [
    "# IMPORT\n",
    "from sklearn.decomposition import PCA\n",
    "\n",
    "# PCA SCALE\n",
    "pca = PCA()\n",
    "principal_components = pca.fit_transform(data[[\"sl\", \"sw\", \"pl\", \"pw\"]])\n"
   ],
   "id": "6c4d0bb156c36020",
   "outputs": [],
   "execution_count": null
  },
  {
   "cell_type": "code",
   "id": "hoxv92ez7h",
   "source": [
    "# PRINT EXPLAINED VARIANCE FOR EACH COMPONENT\n",
    "print(\"Explained variance ratio for each component:\")\n",
    "for i, ratio in enumerate(pca.explained_variance_ratio_):\n",
    "    print(f\"PC{i + 1}: {ratio:.4f}\")\n",
    "\n",
    "# CUM-SUM\n",
    "cumsum_variance = pca.explained_variance_ratio_.cumsum()\n",
    "print(f\"\\nCumulative explained variance:\")\n",
    "for i, cum_var in enumerate(cumsum_variance):\n",
    "    print(f\"PC{i + 1}: {cum_var:.4f}\")\n",
    "\n",
    "# FIND NUMBER OF COMPONENTS NEEDED FOR AT LEAST 95% variance\n",
    "n_components_95 = (cumsum_variance >= 0.95).argmax() + 1\n",
    "print(f\"\\nNumber of components needed to explain at least 95% of variance: {n_components_95}\")"
   ],
   "metadata": {},
   "outputs": [],
   "execution_count": null
  },
  {
   "metadata": {},
   "cell_type": "markdown",
   "source": "### 4.4",
   "id": "f4a1e4fed63bd2c5"
  },
  {
   "metadata": {},
   "cell_type": "code",
   "source": [
    "pd.DataFrame(pca.components_, columns=[\"Sepal L\", \"Sepal W\",\n",
    "                                       \"Petal L\", \"Petal W\"],\n",
    "                                        index=['PC 1', 'PC 2', 'PC 3', 'PC 4']).abs().mean(axis=0)"
   ],
   "id": "a24b6a13b82fc29",
   "outputs": [],
   "execution_count": null
  },
  {
   "metadata": {},
   "cell_type": "markdown",
   "source": "### 4.5",
   "id": "e1c64c60689638a4"
  },
  {
   "metadata": {},
   "cell_type": "code",
   "source": [
    "# Copy dataset so original isn't changed\n",
    "data_rescaled = data.copy()\n",
    "\n",
    "# Rescale Petal Length (pl) to [0, 100]\n",
    "scaler = MinMaxScaler(feature_range=(0, 100))\n",
    "data_rescaled[\"pl\"] = scaler.fit_transform(data_rescaled[[\"pl\"]])\n",
    "\n",
    "# Apply PCA again\n",
    "features = [\"sl\", \"sw\", \"pl\", \"pw\"]\n",
    "pca_rescaled = PCA()\n",
    "pca_rescaled.fit(data_rescaled[features])\n",
    "\n",
    "print(\"Explained variance ratio for each component:\")\n",
    "for i, ratio in enumerate(pca_rescaled.explained_variance_ratio_):\n",
    "    print(f\"PC{i + 1}: {ratio:.4f}\")\n",
    "\n",
    "# Create loadings DataFrame\n",
    "contribution_rescaled = pd.DataFrame(\n",
    "    pca_rescaled.components_,\n",
    "    columns=features,\n",
    "    index=[\"PC 1\", \"PC 2\", \"PC 3\", \"PC 4\"]\n",
    ")\n",
    "\n",
    "# Average absolute contribution\n",
    "attribute_contribution_rescaled = contribution_rescaled.abs().mean(axis=0)\n",
    "print(attribute_contribution_rescaled)"
   ],
   "id": "22843a28e138fb4c",
   "outputs": [],
   "execution_count": null
  },
  {
   "metadata": {},
   "cell_type": "markdown",
   "source": "### 4.6",
   "id": "aa791908aceef64c"
  },
  {
   "metadata": {},
   "cell_type": "code",
   "source": [
    "# Copy dataset so original isn't changed\n",
    "data_outlier = data.copy()\n",
    "\n",
    "# Add an outlier: set petal length (pl) of first record to 5000\n",
    "data_outlier.loc[0, \"pl\"] = 5000\n",
    "\n",
    "# Apply PCA again\n",
    "features = [\"sl\", \"sw\", \"pl\", \"pw\"]\n",
    "pca_outlier = PCA()\n",
    "pca_outlier.fit(data_outlier[features])\n",
    "\n",
    "print(\"Explained variance ratio for each component:\")\n",
    "for i, ratio in enumerate(pca_outlier.explained_variance_ratio_):\n",
    "    print(f\"PC{i + 1}: {ratio:.4f}\")\n",
    "\n",
    "# Create loadings DataFrame\n",
    "contribution_outlier = pd.DataFrame(\n",
    "    pca_outlier.components_,\n",
    "    columns=features,\n",
    "    index=[\"PC 1\", \"PC 2\", \"PC 3\", \"PC 4\"]\n",
    ")\n",
    "\n",
    "# Average absolute contribution\n",
    "attribute_contribution_outlier = contribution_outlier.abs().mean(axis=0)\n",
    "print(attribute_contribution_outlier)"
   ],
   "id": "9cb52ee3ab9ba3ab",
   "outputs": [],
   "execution_count": null
  },
  {
   "metadata": {},
   "cell_type": "markdown",
   "source": "## Task 5",
   "id": "6fb11b1892cbac64"
  },
  {
   "metadata": {},
   "cell_type": "markdown",
   "source": "### 5.1\n",
   "id": "46564ce0e5f8088c"
  },
  {
   "metadata": {},
   "cell_type": "code",
   "source": "sample = data.sample(n=150)",
   "id": "36c5e5fe5da2ae5d",
   "outputs": [],
   "execution_count": null
  },
  {
   "metadata": {},
   "cell_type": "markdown",
   "source": "### 5.2",
   "id": "3c3a728c5e239378"
  },
  {
   "metadata": {},
   "cell_type": "code",
   "source": "sample = data.sample(n=150, replace = True)",
   "id": "4aa0afc28829c09d",
   "outputs": [],
   "execution_count": null
  },
  {
   "metadata": {},
   "cell_type": "markdown",
   "source": "### 5.3",
   "id": "1ef845f01701b91e"
  },
  {
   "metadata": {},
   "cell_type": "code",
   "source": "sample = data.groupby('species', group_keys=False).apply(lambda x: x.sample(frac=0.5))",
   "id": "89d4024a458a4058",
   "outputs": [],
   "execution_count": null
  },
  {
   "metadata": {},
   "cell_type": "markdown",
   "source": "### 5.4",
   "id": "90262b65e7098b94"
  },
  {
   "metadata": {},
   "cell_type": "code",
   "source": "sample = data.groupby('species', group_keys=False).apply( lambda x : x.sample(50))",
   "id": "ce7fe751c4e54799",
   "outputs": [],
   "execution_count": null
  },
  {
   "metadata": {},
   "cell_type": "markdown",
   "source": [
    "TASK 1:\n",
    "\n",
    "a. int64\n",
    "b."
   ],
   "id": "f7d401dcfbbac2ef"
  }
 ],
 "metadata": {
  "kernelspec": {
   "display_name": "Python 3",
   "language": "python",
   "name": "python3"
  },
  "language_info": {
   "codemirror_mode": {
    "name": "ipython",
    "version": 3
   },
   "file_extension": ".py",
   "mimetype": "text/x-python",
   "name": "python",
   "nbconvert_exporter": "python",
   "pygments_lexer": "ipython3",
   "version": "3.11.9"
  }
 },
 "nbformat": 4,
 "nbformat_minor": 5
}
